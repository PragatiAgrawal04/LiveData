{
 "cells": [
  {
   "cell_type": "code",
   "execution_count": 1,
   "id": "a438335e",
   "metadata": {},
   "outputs": [
    {
     "name": "stdout",
     "output_type": "stream",
     "text": [
      "Collecting beautifulsoup\n",
      "  Downloading BeautifulSoup-3.2.2.tar.gz (32 kB)\n",
      "  Preparing metadata (setup.py): started\n",
      "  Preparing metadata (setup.py): finished with status 'error'\n"
     ]
    },
    {
     "name": "stderr",
     "output_type": "stream",
     "text": [
      "  error: subprocess-exited-with-error\n",
      "  \n",
      "  python setup.py egg_info did not run successfully.\n",
      "  exit code: 1\n",
      "  \n",
      "  [7 lines of output]\n",
      "  Traceback (most recent call last):\n",
      "    File \"<string>\", line 2, in <module>\n",
      "    File \"<pip-setuptools-caller>\", line 34, in <module>\n",
      "    File \"C:\\Users\\admin\\AppData\\Local\\Temp\\pip-install-cp9xbard\\beautifulsoup_5bae16b409654fc493d3680166f77e93\\setup.py\", line 3\n",
      "      \"You're trying to run a very old release of Beautiful Soup under Python 3. This will not work.\"<>\"Please use Beautiful Soup 4, available through the pip package 'beautifulsoup4'.\"\n",
      "                                                                                                     ^^\n",
      "  SyntaxError: invalid syntax\n",
      "  [end of output]\n",
      "  \n",
      "  note: This error originates from a subprocess, and is likely not a problem with pip.\n",
      "error: metadata-generation-failed\n",
      "\n",
      "Encountered error while generating package metadata.\n",
      "\n",
      "See above for output.\n",
      "\n",
      "note: This is an issue with the package mentioned above, not pip.\n",
      "hint: See above for details.\n",
      "\n",
      "[notice] A new release of pip is available: 23.3.1 -> 24.0\n",
      "[notice] To update, run: python.exe -m pip install --upgrade pip\n"
     ]
    }
   ],
   "source": [
    "!pip install beautifulsoup"
   ]
  },
  {
   "cell_type": "code",
   "execution_count": 1,
   "id": "b02c8f0a",
   "metadata": {},
   "outputs": [
    {
     "name": "stdout",
     "output_type": "stream",
     "text": [
      "Requirement already satisfied: yfinance in c:\\programdata\\anaconda3\\lib\\site-packages (0.2.30)\n",
      "Requirement already satisfied: pandas>=1.3.0 in c:\\programdata\\anaconda3\\lib\\site-packages (from yfinance) (2.1.1)\n",
      "Requirement already satisfied: numpy>=1.16.5 in c:\\programdata\\anaconda3\\lib\\site-packages (from yfinance) (1.24.3)\n",
      "Requirement already satisfied: requests>=2.31 in c:\\programdata\\anaconda3\\lib\\site-packages (from yfinance) (2.31.0)\n",
      "Requirement already satisfied: multitasking>=0.0.7 in c:\\programdata\\anaconda3\\lib\\site-packages (from yfinance) (0.0.11)\n",
      "Requirement already satisfied: lxml>=4.9.1 in c:\\programdata\\anaconda3\\lib\\site-packages (from yfinance) (4.9.3)\n",
      "Requirement already satisfied: appdirs>=1.4.4 in c:\\programdata\\anaconda3\\lib\\site-packages (from yfinance) (1.4.4)\n",
      "Requirement already satisfied: pytz>=2022.5 in c:\\programdata\\anaconda3\\lib\\site-packages (from yfinance) (2023.3.post1)\n",
      "Requirement already satisfied: frozendict>=2.3.4 in c:\\programdata\\anaconda3\\lib\\site-packages (from yfinance) (2.3.8)\n",
      "Requirement already satisfied: peewee>=3.16.2 in c:\\programdata\\anaconda3\\lib\\site-packages (from yfinance) (3.16.3)\n",
      "Requirement already satisfied: beautifulsoup4>=4.11.1 in c:\\programdata\\anaconda3\\lib\\site-packages (from yfinance) (4.12.2)\n",
      "Requirement already satisfied: html5lib>=1.1 in c:\\programdata\\anaconda3\\lib\\site-packages (from yfinance) (1.1)\n",
      "Requirement already satisfied: soupsieve>1.2 in c:\\programdata\\anaconda3\\lib\\site-packages (from beautifulsoup4>=4.11.1->yfinance) (2.5)\n",
      "Requirement already satisfied: six>=1.9 in c:\\programdata\\anaconda3\\lib\\site-packages (from html5lib>=1.1->yfinance) (1.16.0)\n",
      "Requirement already satisfied: webencodings in c:\\programdata\\anaconda3\\lib\\site-packages (from html5lib>=1.1->yfinance) (0.5.1)\n",
      "Requirement already satisfied: python-dateutil>=2.8.2 in c:\\programdata\\anaconda3\\lib\\site-packages (from pandas>=1.3.0->yfinance) (2.8.2)\n",
      "Requirement already satisfied: tzdata>=2022.1 in c:\\programdata\\anaconda3\\lib\\site-packages (from pandas>=1.3.0->yfinance) (2023.3)\n",
      "Requirement already satisfied: charset-normalizer<4,>=2 in c:\\programdata\\anaconda3\\lib\\site-packages (from requests>=2.31->yfinance) (2.0.4)\n",
      "Requirement already satisfied: idna<4,>=2.5 in c:\\programdata\\anaconda3\\lib\\site-packages (from requests>=2.31->yfinance) (3.4)\n",
      "Requirement already satisfied: urllib3<3,>=1.21.1 in c:\\programdata\\anaconda3\\lib\\site-packages (from requests>=2.31->yfinance) (1.26.18)\n",
      "Requirement already satisfied: certifi>=2017.4.17 in c:\\programdata\\anaconda3\\lib\\site-packages (from requests>=2.31->yfinance) (2023.7.22)\n"
     ]
    },
    {
     "name": "stderr",
     "output_type": "stream",
     "text": [
      "\n",
      "[notice] A new release of pip is available: 23.3.1 -> 24.0\n",
      "[notice] To update, run: python.exe -m pip install --upgrade pip\n"
     ]
    }
   ],
   "source": [
    "!pip install yfinance"
   ]
  },
  {
   "cell_type": "code",
   "execution_count": 2,
   "id": "2620f996",
   "metadata": {},
   "outputs": [
    {
     "data": {
      "text/plain": [
       "('2024-02-23', '2024-02-26')"
      ]
     },
     "execution_count": 2,
     "metadata": {},
     "output_type": "execute_result"
    }
   ],
   "source": [
    "# for weekday calculation refer to this: https://stackoverflow.com/questions/9847213/how-do-i-get-the-day-of-week-given-a-date\n",
    "from datetime import datetime, timedelta\n",
    "\n",
    "#if today is monday (0 means monday and 6 means sunday), fetch the data of previous friday, else fetch the data of previous 1 day\n",
    "if datetime.today().weekday() == 0:\n",
    "    start = datetime.now() - timedelta(3)\n",
    "else:\n",
    "    start = datetime.now() - timedelta(1)\n",
    "start = start.strftime(\"%Y-%m-%d\")\n",
    "end = datetime.now()\n",
    "end = end.strftime(\"%Y-%m-%d\")\n",
    "start, end"
   ]
  },
  {
   "cell_type": "code",
   "execution_count": 3,
   "id": "a01be9c5",
   "metadata": {},
   "outputs": [
    {
     "name": "stdout",
     "output_type": "stream",
     "text": [
      "[*********************100%%**********************]  1 of 1 completed\n"
     ]
    },
    {
     "data": {
      "text/html": [
       "<div>\n",
       "<style scoped>\n",
       "    .dataframe tbody tr th:only-of-type {\n",
       "        vertical-align: middle;\n",
       "    }\n",
       "\n",
       "    .dataframe tbody tr th {\n",
       "        vertical-align: top;\n",
       "    }\n",
       "\n",
       "    .dataframe thead th {\n",
       "        text-align: right;\n",
       "    }\n",
       "</style>\n",
       "<table border=\"1\" class=\"dataframe\">\n",
       "  <thead>\n",
       "    <tr style=\"text-align: right;\">\n",
       "      <th></th>\n",
       "      <th>Open</th>\n",
       "      <th>High</th>\n",
       "      <th>Low</th>\n",
       "      <th>Close</th>\n",
       "      <th>Adj Close</th>\n",
       "      <th>Volume</th>\n",
       "    </tr>\n",
       "    <tr>\n",
       "      <th>Datetime</th>\n",
       "      <th></th>\n",
       "      <th></th>\n",
       "      <th></th>\n",
       "      <th></th>\n",
       "      <th></th>\n",
       "      <th></th>\n",
       "    </tr>\n",
       "  </thead>\n",
       "  <tbody>\n",
       "    <tr>\n",
       "      <th>2024-02-23 09:30:00-05:00</th>\n",
       "      <td>20.209999</td>\n",
       "      <td>20.250000</td>\n",
       "      <td>20.180000</td>\n",
       "      <td>20.209999</td>\n",
       "      <td>20.209999</td>\n",
       "      <td>133140</td>\n",
       "    </tr>\n",
       "    <tr>\n",
       "      <th>2024-02-23 09:35:00-05:00</th>\n",
       "      <td>20.209999</td>\n",
       "      <td>20.215000</td>\n",
       "      <td>20.180000</td>\n",
       "      <td>20.195000</td>\n",
       "      <td>20.195000</td>\n",
       "      <td>103388</td>\n",
       "    </tr>\n",
       "    <tr>\n",
       "      <th>2024-02-23 09:40:00-05:00</th>\n",
       "      <td>20.200001</td>\n",
       "      <td>20.260000</td>\n",
       "      <td>20.184999</td>\n",
       "      <td>20.254999</td>\n",
       "      <td>20.254999</td>\n",
       "      <td>139275</td>\n",
       "    </tr>\n",
       "    <tr>\n",
       "      <th>2024-02-23 09:45:00-05:00</th>\n",
       "      <td>20.260000</td>\n",
       "      <td>20.260000</td>\n",
       "      <td>20.215000</td>\n",
       "      <td>20.219999</td>\n",
       "      <td>20.219999</td>\n",
       "      <td>34447</td>\n",
       "    </tr>\n",
       "    <tr>\n",
       "      <th>2024-02-23 09:50:00-05:00</th>\n",
       "      <td>20.225000</td>\n",
       "      <td>20.230000</td>\n",
       "      <td>20.209999</td>\n",
       "      <td>20.215000</td>\n",
       "      <td>20.215000</td>\n",
       "      <td>21745</td>\n",
       "    </tr>\n",
       "    <tr>\n",
       "      <th>...</th>\n",
       "      <td>...</td>\n",
       "      <td>...</td>\n",
       "      <td>...</td>\n",
       "      <td>...</td>\n",
       "      <td>...</td>\n",
       "      <td>...</td>\n",
       "    </tr>\n",
       "    <tr>\n",
       "      <th>2024-02-23 15:35:00-05:00</th>\n",
       "      <td>20.110001</td>\n",
       "      <td>20.125000</td>\n",
       "      <td>20.110001</td>\n",
       "      <td>20.117500</td>\n",
       "      <td>20.117500</td>\n",
       "      <td>88009</td>\n",
       "    </tr>\n",
       "    <tr>\n",
       "      <th>2024-02-23 15:40:00-05:00</th>\n",
       "      <td>20.115000</td>\n",
       "      <td>20.120001</td>\n",
       "      <td>20.100000</td>\n",
       "      <td>20.105000</td>\n",
       "      <td>20.105000</td>\n",
       "      <td>78662</td>\n",
       "    </tr>\n",
       "    <tr>\n",
       "      <th>2024-02-23 15:45:00-05:00</th>\n",
       "      <td>20.105000</td>\n",
       "      <td>20.120001</td>\n",
       "      <td>20.100000</td>\n",
       "      <td>20.110001</td>\n",
       "      <td>20.110001</td>\n",
       "      <td>94812</td>\n",
       "    </tr>\n",
       "    <tr>\n",
       "      <th>2024-02-23 15:50:00-05:00</th>\n",
       "      <td>20.120001</td>\n",
       "      <td>20.129999</td>\n",
       "      <td>20.100000</td>\n",
       "      <td>20.110001</td>\n",
       "      <td>20.110001</td>\n",
       "      <td>241344</td>\n",
       "    </tr>\n",
       "    <tr>\n",
       "      <th>2024-02-23 15:55:00-05:00</th>\n",
       "      <td>20.110001</td>\n",
       "      <td>20.115000</td>\n",
       "      <td>20.100000</td>\n",
       "      <td>20.110001</td>\n",
       "      <td>20.110001</td>\n",
       "      <td>473323</td>\n",
       "    </tr>\n",
       "  </tbody>\n",
       "</table>\n",
       "<p>78 rows × 6 columns</p>\n",
       "</div>"
      ],
      "text/plain": [
       "                                Open       High        Low      Close  \\\n",
       "Datetime                                                                \n",
       "2024-02-23 09:30:00-05:00  20.209999  20.250000  20.180000  20.209999   \n",
       "2024-02-23 09:35:00-05:00  20.209999  20.215000  20.180000  20.195000   \n",
       "2024-02-23 09:40:00-05:00  20.200001  20.260000  20.184999  20.254999   \n",
       "2024-02-23 09:45:00-05:00  20.260000  20.260000  20.215000  20.219999   \n",
       "2024-02-23 09:50:00-05:00  20.225000  20.230000  20.209999  20.215000   \n",
       "...                              ...        ...        ...        ...   \n",
       "2024-02-23 15:35:00-05:00  20.110001  20.125000  20.110001  20.117500   \n",
       "2024-02-23 15:40:00-05:00  20.115000  20.120001  20.100000  20.105000   \n",
       "2024-02-23 15:45:00-05:00  20.105000  20.120001  20.100000  20.110001   \n",
       "2024-02-23 15:50:00-05:00  20.120001  20.129999  20.100000  20.110001   \n",
       "2024-02-23 15:55:00-05:00  20.110001  20.115000  20.100000  20.110001   \n",
       "\n",
       "                           Adj Close  Volume  \n",
       "Datetime                                      \n",
       "2024-02-23 09:30:00-05:00  20.209999  133140  \n",
       "2024-02-23 09:35:00-05:00  20.195000  103388  \n",
       "2024-02-23 09:40:00-05:00  20.254999  139275  \n",
       "2024-02-23 09:45:00-05:00  20.219999   34447  \n",
       "2024-02-23 09:50:00-05:00  20.215000   21745  \n",
       "...                              ...     ...  \n",
       "2024-02-23 15:35:00-05:00  20.117500   88009  \n",
       "2024-02-23 15:40:00-05:00  20.105000   78662  \n",
       "2024-02-23 15:45:00-05:00  20.110001   94812  \n",
       "2024-02-23 15:50:00-05:00  20.110001  241344  \n",
       "2024-02-23 15:55:00-05:00  20.110001  473323  \n",
       "\n",
       "[78 rows x 6 columns]"
      ]
     },
     "execution_count": 3,
     "metadata": {},
     "output_type": "execute_result"
    }
   ],
   "source": [
    "#RELIANCE.NS\n",
    "import yfinance as yf\n",
    "# Valid intervals: 1m,2m,5m,15m,30m,60m,90m,1h,1d,5d,1wk,1mo,3mo\n",
    "data = yf.download(\"INFY\", start=start, end=end,  interval = \"5m\")\n",
    "data"
   ]
  },
  {
   "cell_type": "code",
   "execution_count": null,
   "id": "5cd17db4",
   "metadata": {},
   "outputs": [],
   "source": [
    "price_store = []\n",
    "for x in data[\"Adj Close\"].to_list():\n",
    "    price_store.append(x)"
   ]
  },
  {
   "cell_type": "code",
   "execution_count": null,
   "id": "96d34246",
   "metadata": {},
   "outputs": [],
   "source": [
    "# Referenced from this youtube video: https://www.youtube.com/watch?v=WiAGeVS6e40"
   ]
  },
  {
   "cell_type": "code",
   "execution_count": null,
   "id": "e8b14d30",
   "metadata": {},
   "outputs": [],
   "source": [
    "url1 = \"https://www.google.com/finance/quote/INFY:NSE\"\n",
    "url2 = \"https://www.google.com/finance/quote/500209:BOM\""
   ]
  },
  {
   "cell_type": "code",
   "execution_count": 3,
   "id": "64168ca1",
   "metadata": {},
   "outputs": [],
   "source": [
    "import requests\n",
    "from bs4 import BeautifulSoup\n",
    "import time"
   ]
  },
  {
   "cell_type": "code",
   "execution_count": 28,
   "id": "d55ffa8b",
   "metadata": {},
   "outputs": [
    {
     "name": "stdout",
     "output_type": "stream",
     "text": [
      "1654.15\n",
      "1654.85\n",
      "1654.85\n"
     ]
    }
   ],
   "source": [
    "ticker = \"INFY\"\n",
    "exchange = \"NSE\"\n",
    "\n",
    "url = f\"https://www.google.com/finance/quote/{ticker}:{exchange}\"\n",
    "\n",
    "for i in range(3):\n",
    "    response = requests.get(url)\n",
    "    soup = BeautifulSoup(response.text, 'html.parser')\n",
    "    class1 =\"YMlKec fxKbKc\"\n",
    "    price = float(soup.find(class_=class1).text.strip()[1:].replace(\",\",\"\"))\n",
    "    print(price)\n",
    "    price_store.append(price)\n",
    "    time.sleep(5)"
   ]
  },
  {
   "cell_type": "code",
   "execution_count": 26,
   "id": "adced931",
   "metadata": {},
   "outputs": [
    {
     "data": {
      "text/plain": [
       "1653.85"
      ]
     },
     "execution_count": 26,
     "metadata": {},
     "output_type": "execute_result"
    }
   ],
   "source": []
  },
  {
   "cell_type": "code",
   "execution_count": null,
   "id": "611b2464",
   "metadata": {},
   "outputs": [],
   "source": []
  },
  {
   "cell_type": "code",
   "execution_count": null,
   "id": "fdfdbbc6",
   "metadata": {},
   "outputs": [],
   "source": []
  }
 ],
 "metadata": {
  "kernelspec": {
   "display_name": "Python 3 (ipykernel)",
   "language": "python",
   "name": "python3"
  },
  "language_info": {
   "codemirror_mode": {
    "name": "ipython",
    "version": 3
   },
   "file_extension": ".py",
   "mimetype": "text/x-python",
   "name": "python",
   "nbconvert_exporter": "python",
   "pygments_lexer": "ipython3",
   "version": "3.11.5"
  }
 },
 "nbformat": 4,
 "nbformat_minor": 5
}
